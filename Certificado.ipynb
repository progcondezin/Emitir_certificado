{
 "cells": [
  {
   "cell_type": "code",
   "execution_count": 1,
   "metadata": {},
   "outputs": [],
   "source": [
    "from PIL import Image, ImageDraw, ImageFont\n",
    "import pandas as pd \n",
    "import time\n",
    "from datetime import date\n",
    "\n",
    "#https://pandas.pydata.org/docs/\n",
    "#https://pillow.readthedocs.io/en/stable/index.html\n"
   ]
  },
  {
   "cell_type": "code",
   "execution_count": 4,
   "metadata": {},
   "outputs": [],
   "source": [
    "pessoa_df = pd.read_excel(r\"C:\\Users\\gabri\\OneDrive\\Área de Trabalho\\Programação\\Projetos\\python\\Emitir_certificado\\Confirmados.xlsx\")"
   ]
  },
  {
   "cell_type": "code",
   "execution_count": 5,
   "metadata": {},
   "outputs": [],
   "source": [
    "#para fazer download da fonte https://fonts.google.com/\n",
    "#Depois instale os arquivos em configurações de fontes \n",
    "imagem = Image.open(r'C:\\Users\\gabri\\OneDrive\\Área de Trabalho\\Programação\\Projetos\\python\\Emitir_certificado\\Certificado.jpg')"
   ]
  },
  {
   "cell_type": "code",
   "execution_count": 10,
   "metadata": {},
   "outputs": [],
   "source": [
    "#------------Largura----altura-------\n",
    "for i, email in enumerate(pessoa_df['confirmados']):\n",
    "    coord_pessoa = (763,290)\n",
    "    nome_pessoa = pessoa_df.loc[i, 'confirmados']\n",
    "    imagem = Image.open(r'C:\\Users\\gabri\\OneDrive\\Área de Trabalho\\Programação\\Projetos\\python\\Emitir_certificado\\Certificado.jpg')\n",
    "    caminho__fonte = r'c:\\users\\gabri\\appdata\\local\\microsoft\\windows\\fonts\\NUNITO-MEDIUM.TTF'\n",
    "    font = ImageFont.truetype(caminho__fonte,50)\n",
    "    rgb_preto = (37,45,108)\n",
    "    desenho = ImageDraw.Draw(imagem)\n",
    "    desenho.text(coord_pessoa, nome_pessoa, font=font, fill=rgb_preto)\n",
    "    imagem.save(fr'C:\\Users\\gabri\\OneDrive\\Área de Trabalho\\Programação\\Projetos\\python\\Emitir_certificado\\{nome_pessoa}.pdf')"
   ]
  }
 ],
 "metadata": {
  "kernelspec": {
   "display_name": "Python 3.8.8 ('base')",
   "language": "python",
   "name": "python3"
  },
  "language_info": {
   "codemirror_mode": {
    "name": "ipython",
    "version": 3
   },
   "file_extension": ".py",
   "mimetype": "text/x-python",
   "name": "python",
   "nbconvert_exporter": "python",
   "pygments_lexer": "ipython3",
   "version": "3.11.5"
  },
  "orig_nbformat": 4,
  "vscode": {
   "interpreter": {
    "hash": "1c72a097f30d6d3641b42a0459290e8836756fb8f87dcb84ba3a2924eed02fac"
   }
  }
 },
 "nbformat": 4,
 "nbformat_minor": 2
}
